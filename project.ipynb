{
 "cells": [
  {
   "cell_type": "code",
   "execution_count": null,
   "id": "3f566d93",
   "metadata": {},
   "outputs": [],
   "source": []
  },
  {
   "cell_type": "code",
   "execution_count": 1,
   "id": "9a5719d8",
   "metadata": {},
   "outputs": [
    {
     "data": {
      "text/html": [
       "<div>\n",
       "<style scoped>\n",
       "    .dataframe tbody tr th:only-of-type {\n",
       "        vertical-align: middle;\n",
       "    }\n",
       "\n",
       "    .dataframe tbody tr th {\n",
       "        vertical-align: top;\n",
       "    }\n",
       "\n",
       "    .dataframe thead th {\n",
       "        text-align: right;\n",
       "    }\n",
       "</style>\n",
       "<table border=\"1\" class=\"dataframe\">\n",
       "  <thead>\n",
       "    <tr style=\"text-align: right;\">\n",
       "      <th></th>\n",
       "      <th>status_id</th>\n",
       "      <th>status_message</th>\n",
       "      <th>link_name</th>\n",
       "      <th>status_type</th>\n",
       "      <th>status_link</th>\n",
       "      <th>status_published</th>\n",
       "      <th>num_reactions</th>\n",
       "      <th>num_comments</th>\n",
       "      <th>num_shares</th>\n",
       "      <th>num_likes</th>\n",
       "      <th>num_loves</th>\n",
       "      <th>num_wows</th>\n",
       "      <th>num_hahas</th>\n",
       "      <th>num_sads</th>\n",
       "      <th>num_angrys</th>\n",
       "    </tr>\n",
       "  </thead>\n",
       "  <tbody>\n",
       "    <tr>\n",
       "      <th>0</th>\n",
       "      <td>153080620724_10157915294545725</td>\n",
       "      <td>Beautiful evening in Wisconsin- THANK YOU for ...</td>\n",
       "      <td>Timeline Photos</td>\n",
       "      <td>photo</td>\n",
       "      <td>https://www.facebook.com/DonaldTrump/photos/a....</td>\n",
       "      <td>10/17/2016 20:56:51</td>\n",
       "      <td>6813.0</td>\n",
       "      <td>543.0</td>\n",
       "      <td>359.0</td>\n",
       "      <td>6178.0</td>\n",
       "      <td>572.0</td>\n",
       "      <td>39.0</td>\n",
       "      <td>17.0</td>\n",
       "      <td>0.0</td>\n",
       "      <td>7.0</td>\n",
       "    </tr>\n",
       "    <tr>\n",
       "      <th>1</th>\n",
       "      <td>153080620724_10157914483265725</td>\n",
       "      <td>The State Department's quid pro quo scheme pro...</td>\n",
       "      <td>NaN</td>\n",
       "      <td>video</td>\n",
       "      <td>https://www.facebook.com/DonaldTrump/videos/10...</td>\n",
       "      <td>10/17/2016 18:00:41</td>\n",
       "      <td>33768.0</td>\n",
       "      <td>3644.0</td>\n",
       "      <td>17653.0</td>\n",
       "      <td>26649.0</td>\n",
       "      <td>487.0</td>\n",
       "      <td>1155.0</td>\n",
       "      <td>75.0</td>\n",
       "      <td>191.0</td>\n",
       "      <td>5211.0</td>\n",
       "    </tr>\n",
       "    <tr>\n",
       "      <th>2</th>\n",
       "      <td>153080620724_10157913199155725</td>\n",
       "      <td>Crooked Hillary's State Department colluded wi...</td>\n",
       "      <td>NaN</td>\n",
       "      <td>video</td>\n",
       "      <td>https://www.facebook.com/DonaldTrump/videos/10...</td>\n",
       "      <td>10/17/2016 15:34:46</td>\n",
       "      <td>85627.0</td>\n",
       "      <td>8810.0</td>\n",
       "      <td>32594.0</td>\n",
       "      <td>73519.0</td>\n",
       "      <td>2943.0</td>\n",
       "      <td>1020.0</td>\n",
       "      <td>330.0</td>\n",
       "      <td>263.0</td>\n",
       "      <td>7552.0</td>\n",
       "    </tr>\n",
       "    <tr>\n",
       "      <th>3</th>\n",
       "      <td>153080620724_10157912962325725</td>\n",
       "      <td>JournoCash: Media gives $382,000 to Clinton, $...</td>\n",
       "      <td>JournoCash: Media gives $382,000 to Clinton, $...</td>\n",
       "      <td>link</td>\n",
       "      <td>http://www.washingtonexaminer.com/journocash-m...</td>\n",
       "      <td>10/17/2016 14:17:24</td>\n",
       "      <td>22696.0</td>\n",
       "      <td>3665.0</td>\n",
       "      <td>5082.0</td>\n",
       "      <td>14029.0</td>\n",
       "      <td>122.0</td>\n",
       "      <td>2091.0</td>\n",
       "      <td>241.0</td>\n",
       "      <td>286.0</td>\n",
       "      <td>5927.0</td>\n",
       "    </tr>\n",
       "    <tr>\n",
       "      <th>4</th>\n",
       "      <td>153080620724_10157912187170725</td>\n",
       "      <td>Exclusive: \"O'Keefe Video Sting Exposes 'Bird-...</td>\n",
       "      <td>O'Keefe Reveals 'Bird-Dogging' to Incite Viole...</td>\n",
       "      <td>link</td>\n",
       "      <td>http://www.breitbart.com/big-government/2016/1...</td>\n",
       "      <td>10/17/2016 12:03:19</td>\n",
       "      <td>40729.0</td>\n",
       "      <td>4905.0</td>\n",
       "      <td>17087.0</td>\n",
       "      <td>26472.0</td>\n",
       "      <td>178.0</td>\n",
       "      <td>2588.0</td>\n",
       "      <td>154.0</td>\n",
       "      <td>417.0</td>\n",
       "      <td>10922.0</td>\n",
       "    </tr>\n",
       "  </tbody>\n",
       "</table>\n",
       "</div>"
      ],
      "text/plain": [
       "                        status_id  \\\n",
       "0  153080620724_10157915294545725   \n",
       "1  153080620724_10157914483265725   \n",
       "2  153080620724_10157913199155725   \n",
       "3  153080620724_10157912962325725   \n",
       "4  153080620724_10157912187170725   \n",
       "\n",
       "                                      status_message  \\\n",
       "0  Beautiful evening in Wisconsin- THANK YOU for ...   \n",
       "1  The State Department's quid pro quo scheme pro...   \n",
       "2  Crooked Hillary's State Department colluded wi...   \n",
       "3  JournoCash: Media gives $382,000 to Clinton, $...   \n",
       "4  Exclusive: \"O'Keefe Video Sting Exposes 'Bird-...   \n",
       "\n",
       "                                           link_name status_type  \\\n",
       "0                                    Timeline Photos       photo   \n",
       "1                                                NaN       video   \n",
       "2                                                NaN       video   \n",
       "3  JournoCash: Media gives $382,000 to Clinton, $...        link   \n",
       "4  O'Keefe Reveals 'Bird-Dogging' to Incite Viole...        link   \n",
       "\n",
       "                                         status_link     status_published  \\\n",
       "0  https://www.facebook.com/DonaldTrump/photos/a....  10/17/2016 20:56:51   \n",
       "1  https://www.facebook.com/DonaldTrump/videos/10...  10/17/2016 18:00:41   \n",
       "2  https://www.facebook.com/DonaldTrump/videos/10...  10/17/2016 15:34:46   \n",
       "3  http://www.washingtonexaminer.com/journocash-m...  10/17/2016 14:17:24   \n",
       "4  http://www.breitbart.com/big-government/2016/1...  10/17/2016 12:03:19   \n",
       "\n",
       "   num_reactions  num_comments  num_shares  num_likes  num_loves  num_wows  \\\n",
       "0         6813.0         543.0       359.0     6178.0      572.0      39.0   \n",
       "1        33768.0        3644.0     17653.0    26649.0      487.0    1155.0   \n",
       "2        85627.0        8810.0     32594.0    73519.0     2943.0    1020.0   \n",
       "3        22696.0        3665.0      5082.0    14029.0      122.0    2091.0   \n",
       "4        40729.0        4905.0     17087.0    26472.0      178.0    2588.0   \n",
       "\n",
       "   num_hahas  num_sads  num_angrys  \n",
       "0       17.0       0.0         7.0  \n",
       "1       75.0     191.0      5211.0  \n",
       "2      330.0     263.0      7552.0  \n",
       "3      241.0     286.0      5927.0  \n",
       "4      154.0     417.0     10922.0  "
      ]
     },
     "execution_count": 1,
     "metadata": {},
     "output_type": "execute_result"
    }
   ],
   "source": [
    "# load the dataset\n",
    "\n",
    "import pandas as pd\n",
    "\n",
    "df = pd.read_csv(\"Donald Trumps Facebook Statuses.csv\")\n",
    "df.head()"
   ]
  },
  {
   "cell_type": "code",
   "execution_count": 2,
   "id": "7c5b50da",
   "metadata": {},
   "outputs": [
    {
     "name": "stdout",
     "output_type": "stream",
     "text": [
      "<class 'pandas.core.frame.DataFrame'>\n",
      "RangeIndex: 4540 entries, 0 to 4539\n",
      "Data columns (total 15 columns):\n",
      " #   Column            Non-Null Count  Dtype  \n",
      "---  ------            --------------  -----  \n",
      " 0   status_id         4539 non-null   object \n",
      " 1   status_message    3794 non-null   object \n",
      " 2   link_name         2715 non-null   object \n",
      " 3   status_type       4160 non-null   object \n",
      " 4   status_link       2983 non-null   object \n",
      " 5   status_published  4160 non-null   object \n",
      " 6   num_reactions     4160 non-null   float64\n",
      " 7   num_comments      4160 non-null   float64\n",
      " 8   num_shares        4160 non-null   float64\n",
      " 9   num_likes         4160 non-null   float64\n",
      " 10  num_loves         4160 non-null   float64\n",
      " 11  num_wows          4160 non-null   float64\n",
      " 12  num_hahas         4160 non-null   float64\n",
      " 13  num_sads          4160 non-null   float64\n",
      " 14  num_angrys        4159 non-null   float64\n",
      "dtypes: float64(9), object(6)\n",
      "memory usage: 532.2+ KB\n"
     ]
    }
   ],
   "source": [
    "# print basic information\n",
    "\n",
    "df.info()"
   ]
  },
  {
   "cell_type": "code",
   "execution_count": 6,
   "id": "7d6577f1",
   "metadata": {},
   "outputs": [
    {
     "data": {
      "text/plain": [
       "(4539, 15)"
      ]
     },
     "execution_count": 6,
     "metadata": {},
     "output_type": "execute_result"
    }
   ],
   "source": [
    "df.shape"
   ]
  },
  {
   "cell_type": "markdown",
   "id": "61470a1a",
   "metadata": {},
   "source": [
    "We can see a lot of null values in the dataset. I would assume that posts where the number of loves, wows, sads, etc. is NaN, those are the posts that have 0 count of such reactions. For now, I don't see a reason why we may want to delete some rows where specific column is null, thus I will keep the dataset as it is."
   ]
  },
  {
   "cell_type": "markdown",
   "id": "704c19ea",
   "metadata": {},
   "source": [
    "<h4>Tasks</h4>\n",
    "\n",
    "1. Use charts (histogram/bar graph) to display the distribution of types of statuses (photo, video, link, and status)."
   ]
  },
  {
   "cell_type": "code",
   "execution_count": 7,
   "id": "60b9719f",
   "metadata": {
    "scrolled": true
   },
   "outputs": [
    {
     "data": {
      "text/plain": [
       "photo                    1539\n",
       "status                   1177\n",
       "link                      763\n",
       "video                     679\n",
       "http://bit.ly/2duCRlw       1\n",
       "event                       1\n",
       "Name: status_type, dtype: int64"
      ]
     },
     "execution_count": 7,
     "metadata": {},
     "output_type": "execute_result"
    }
   ],
   "source": [
    "df.status_type.value_counts()"
   ]
  },
  {
   "cell_type": "code",
   "execution_count": 9,
   "id": "9744533a",
   "metadata": {},
   "outputs": [],
   "source": [
    "# subset the dataset to include only first 4 types of statuses\n",
    "\n",
    "df1 = df[(df.status_type != 'event') & (df.status_type != 'http://bit.ly/2duCRlw')]"
   ]
  },
  {
   "cell_type": "code",
   "execution_count": 14,
   "id": "99d8db3d",
   "metadata": {},
   "outputs": [
    {
     "data": {
      "image/png": "[encoded data removed]",
      "text/plain": [
       "<Figure size 640x480 with 1 Axes>"
      ]
     },
     "metadata": {},
     "output_type": "display_data"
    }
   ],
   "source": [
    "import matplotlib.pyplot as plt\n",
    "\n",
    "freq = df1.status_type.value_counts(normalize=True) * 100\n",
    "\n",
    "freq.plot(kind='bar')\n",
    "\n",
    "# add labels and title\n",
    "plt.xlabel('Status')\n",
    "plt.ylabel('Frequency (%)')\n",
    "plt.title('Frequency Distribution of Statuses')\n",
    "\n",
    "# display the plot\n",
    "plt.show()"
   ]
  },
  {
   "cell_type": "markdown",
   "id": "c36c984e",
   "metadata": {},
   "source": [
    "2. Plot a chart showing the progression of likes, loves, and sads, and angrys over time."
   ]
  },
  {
   "cell_type": "code",
   "execution_count": 24,
   "id": "56636f57",
   "metadata": {},
   "outputs": [],
   "source": [
    "df['status_published'] = pd.to_datetime(df['status_published'], infer_datetime_format=True, errors='coerce')"
   ]
  },
  {
   "cell_type": "code",
   "execution_count": 28,
   "id": "51948334",
   "metadata": {},
   "outputs": [],
   "source": [
    "df2 = df[df.status_published.notnull()]"
   ]
  },
  {
   "cell_type": "code",
   "execution_count": 32,
   "id": "a3b0baee",
   "metadata": {},
   "outputs": [
    {
     "data": {
      "image/png": "[encoded data removed]",
      "text/plain": [
       "<Figure size 640x480 with 1 Axes>"
      ]
     },
     "metadata": {},
     "output_type": "display_data"
    }
   ],
   "source": [
    "likes_counts = df.groupby(df['status_published'].dt.date)['num_likes'].sum()\n",
    "\n",
    "likes_counts.plot()\n",
    "plt.xlabel('Date')\n",
    "plt.ylabel('Likes Count')\n",
    "plt.title('Progression of Likes over Time')\n",
    "\n",
    "plt.show()"
   ]
  },
  {
   "cell_type": "code",
   "execution_count": 34,
   "id": "173eb2d5",
   "metadata": {},
   "outputs": [
    {
     "data": {
      "image/png": "[encoded data removed]",
      "text/plain": [
       "<Figure size 640x480 with 1 Axes>"
      ]
     },
     "metadata": {},
     "output_type": "display_data"
    }
   ],
   "source": [
    "loves_counts = df.groupby(df['status_published'].dt.date)['num_loves'].sum()\n",
    "\n",
    "loves_counts.plot()\n",
    "plt.xlabel('Date')\n",
    "plt.ylabel('Loves Count')\n",
    "plt.title('Progression of Loves over Time')\n",
    "\n",
    "plt.show()"
   ]
  },
  {
   "cell_type": "code",
   "execution_count": 35,
   "id": "0055f4e8",
   "metadata": {},
   "outputs": [
    {
     "data": {
      "image/png": "[encoded data removed]",
      "text/plain": [
       "<Figure size 640x480 with 1 Axes>"
      ]
     },
     "metadata": {},
     "output_type": "display_data"
    }
   ],
   "source": [
    "sads_counts = df.groupby(df['status_published'].dt.date)['num_sads'].sum()\n",
    "\n",
    "sads_counts.plot()\n",
    "plt.xlabel('Date')\n",
    "plt.ylabel('Sads Count')\n",
    "plt.title('Progression of Sads over Time')\n",
    "\n",
    "plt.show()"
   ]
  },
  {
   "cell_type": "code",
   "execution_count": 37,
   "id": "ed7a495b",
   "metadata": {},
   "outputs": [
    {
     "data": {
      "image/png": "[encoded data removed]",
      "text/plain": [
       "<Figure size 640x480 with 1 Axes>"
      ]
     },
     "metadata": {},
     "output_type": "display_data"
    }
   ],
   "source": [
    "angrys_counts = df.groupby(df['status_published'].dt.date)['num_angrys'].sum()\n",
    "\n",
    "angrys_counts.plot()\n",
    "plt.xlabel('Date')\n",
    "plt.ylabel('Angrys Count')\n",
    "plt.title('Progression of Angrys over Time')\n",
    "\n",
    "plt.show()"
   ]
  },
  {
   "cell_type": "markdown",
   "id": "8e12107e",
   "metadata": {},
   "source": [
    "3. What are the top reactions expressed by Trump’s Facebook audience?"
   ]
  },
  {
   "cell_type": "code",
   "execution_count": 44,
   "id": "7de9880f",
   "metadata": {},
   "outputs": [
    {
     "name": "stdout",
     "output_type": "stream",
     "text": [
      "num_likes  220676633.0\n",
      "num_loves  7706103.0\n",
      "num_sads   540360.0\n",
      "num_wows   695447.0\n",
      "num_hahas  1687937.0\n",
      "num_angrys 2269144.0\n"
     ]
    }
   ],
   "source": [
    "counts = []\n",
    "reactions = ['num_likes', 'num_loves', 'num_sads', 'num_wows', 'num_hahas', 'num_angrys']\n",
    "for i in reactions:\n",
    "    counts.append(df[i].sum())\n",
    "\n",
    "for item1, item2 in zip(reactions, counts):\n",
    "    print(f'{item1:<10} {item2:>5}')\n",
    "    \n",
    "# we can see that number of likes was the top reaction"
   ]
  },
  {
   "cell_type": "code",
   "execution_count": 39,
   "id": "569dc3a1",
   "metadata": {},
   "outputs": [
    {
     "data": {
      "text/html": [
       "<div>\n",
       "<style scoped>\n",
       "    .dataframe tbody tr th:only-of-type {\n",
       "        vertical-align: middle;\n",
       "    }\n",
       "\n",
       "    .dataframe tbody tr th {\n",
       "        vertical-align: top;\n",
       "    }\n",
       "\n",
       "    .dataframe thead th {\n",
       "        text-align: right;\n",
       "    }\n",
       "</style>\n",
       "<table border=\"1\" class=\"dataframe\">\n",
       "  <thead>\n",
       "    <tr style=\"text-align: right;\">\n",
       "      <th></th>\n",
       "      <th>num_likes</th>\n",
       "      <th>num_loves</th>\n",
       "      <th>num_sads</th>\n",
       "      <th>num_wows</th>\n",
       "      <th>num_hahas</th>\n",
       "      <th>num_angrys</th>\n",
       "    </tr>\n",
       "    <tr>\n",
       "      <th>status_type</th>\n",
       "      <th></th>\n",
       "      <th></th>\n",
       "      <th></th>\n",
       "      <th></th>\n",
       "      <th></th>\n",
       "      <th></th>\n",
       "    </tr>\n",
       "  </thead>\n",
       "  <tbody>\n",
       "    <tr>\n",
       "      <th>link</th>\n",
       "      <td>35355909.0</td>\n",
       "      <td>1104220.0</td>\n",
       "      <td>52268.0</td>\n",
       "      <td>194330.0</td>\n",
       "      <td>265793.0</td>\n",
       "      <td>618407.0</td>\n",
       "    </tr>\n",
       "    <tr>\n",
       "      <th>photo</th>\n",
       "      <td>78289794.0</td>\n",
       "      <td>2972847.0</td>\n",
       "      <td>145908.0</td>\n",
       "      <td>257068.0</td>\n",
       "      <td>431784.0</td>\n",
       "      <td>528155.0</td>\n",
       "    </tr>\n",
       "    <tr>\n",
       "      <th>status</th>\n",
       "      <td>73638484.0</td>\n",
       "      <td>1595974.0</td>\n",
       "      <td>292014.0</td>\n",
       "      <td>116212.0</td>\n",
       "      <td>590486.0</td>\n",
       "      <td>695103.0</td>\n",
       "    </tr>\n",
       "    <tr>\n",
       "      <th>video</th>\n",
       "      <td>33385295.0</td>\n",
       "      <td>2033019.0</td>\n",
       "      <td>50102.0</td>\n",
       "      <td>127664.0</td>\n",
       "      <td>399872.0</td>\n",
       "      <td>427479.0</td>\n",
       "    </tr>\n",
       "  </tbody>\n",
       "</table>\n",
       "</div>"
      ],
      "text/plain": [
       "              num_likes  num_loves  num_sads  num_wows  num_hahas  num_angrys\n",
       "status_type                                                                  \n",
       "link         35355909.0  1104220.0   52268.0  194330.0   265793.0    618407.0\n",
       "photo        78289794.0  2972847.0  145908.0  257068.0   431784.0    528155.0\n",
       "status       73638484.0  1595974.0  292014.0  116212.0   590486.0    695103.0\n",
       "video        33385295.0  2033019.0   50102.0  127664.0   399872.0    427479.0"
      ]
     },
     "execution_count": 39,
     "metadata": {},
     "output_type": "execute_result"
    }
   ],
   "source": [
    "# we may also want to see how status type correlates with reation type\n",
    "\n",
    "top_reactions = df1.groupby('status_type')[['num_likes', 'num_loves', 'num_sads', 'num_wows', 'num_hahas', 'num_angrys']].sum()\n",
    "\n",
    "top_reactions"
   ]
  },
  {
   "cell_type": "markdown",
   "id": "808261a4",
   "metadata": {},
   "source": [
    "4. Analyze the content in the status_message to find the top 10 topics (Topic modeling LDA can be used). Can you tell if fans are particularly happy or upset about the topics?"
   ]
  },
  {
   "cell_type": "code",
   "execution_count": 45,
   "id": "d8b8a50f",
   "metadata": {},
   "outputs": [],
   "source": [
    "# before performing LDA, we should clean data\n",
    "\n",
    "import re\n",
    "import nltk\n",
    "import string\n",
    "import html\n",
    "from nltk.corpus import stopwords\n",
    "from nltk.tokenize import word_tokenize\n",
    "from nltk.corpus import wordnet\n",
    "from nltk.stem import WordNetLemmatizer\n",
    "from gensim.models import Phrases\n",
    "\n",
    "\n",
    "def cleaning(text):\n",
    "    remove = re.compile(r'')\n",
    "    itemlist = re.sub(remove, '', str(text)) # delete tags\n",
    "    \n",
    "    itemlist = re.sub(r'\\w+:\\/{2}[\\d\\w-]+(\\.[\\d\\w-]+)*(?:(?:\\/[^\\s/]*))*', \"\", itemlist)  # delete urls\n",
    "    itemlist = [html.unescape(s) for s in itemlist] #remove html tags and attributes\n",
    "    \n",
    "    itemlist = [s.encode('ascii', 'ignore') for s in itemlist] #convert to ascii\n",
    "    itemlist = [s.decode('ascii') for s in itemlist] # deconvert\n",
    "    \n",
    "    itemlist = [s.replace('\\n',' ') for s in itemlist] #remove \\n in strings\n",
    "    itemlist = [s.replace('\\r','') for s in itemlist]  # remove \\r in strings\n",
    "    itemlist = [s.replace('\\\\n',' ') for s in itemlist] #remove \\\\n in strings\n",
    "    itemlist = [re.sub('[0-9]+', '', s) for s in itemlist] #remove numbers\n",
    "    \n",
    "    itemlist = [s.lower() for s in itemlist] #lower case\n",
    "    \n",
    "    return \"\".join(itemlist)\n",
    "\n",
    "\n",
    "def preprocess(text):\n",
    "    \n",
    "    text_tokens = word_tokenize(text)\n",
    "    tokens_without_punc = [word.lower() for word in text_tokens if word.isalnum()] # delete all punctuation marks\n",
    "    \n",
    "    # lemmatize \n",
    "    lemmatizer = WordNetLemmatizer()\n",
    "    lemmatized = [lemmatizer.lemmatize(w) for w in tokens_without_punc] # lemmatize words without pos tags\n",
    "    \n",
    "    tokens_without_sw = [word for word in lemmatized if not word in stopwords.words('english')] # delete stopwords\n",
    "    \n",
    "    # find collocations and set them as separate phrases\n",
    "    text_clean = tokens_without_sw\n",
    "    \n",
    "    bigram = Phrases(text_clean) # bigrams\n",
    "    trigram = Phrases(bigram[text_clean]) # trigrams\n",
    "\n",
    "    for idx in range(len(text_clean)):\n",
    "        for token in bigram[text_clean[idx]]:\n",
    "            if '_' in token:\n",
    "                text_clean[idx].append(token)\n",
    "        for token in trigram[text_clean[idx]]:\n",
    "            if '_' in token:\n",
    "                text_clean[idx].append(token)\n",
    "    \n",
    "    return ' '.join(text_clean)"
   ]
  },
  {
   "cell_type": "code",
   "execution_count": 46,
   "id": "b1aa84d4",
   "metadata": {},
   "outputs": [
    {
     "data": {
      "text/plain": [
       "(3626, 15)"
      ]
     },
     "execution_count": 46,
     "metadata": {},
     "output_type": "execute_result"
    }
   ],
   "source": [
    "# filter the dataset where status_message is not empty and is longer than 30 characters\n",
    "# in this case, we exclude instances where the message is too short\n",
    "\n",
    "df3 = df[df['status_message'].notnull()]\n",
    "df3 = df3[df3['status_message'].str.len() > 30]\n",
    "df3.shape"
   ]
  },
  {
   "cell_type": "code",
   "execution_count": 47,
   "id": "6632cf3f",
   "metadata": {},
   "outputs": [],
   "source": [
    "df3[\"status_processed\"] = df3.status_message.apply(cleaning).apply(preprocess)"
   ]
  },
  {
   "cell_type": "code",
   "execution_count": 60,
   "id": "e7b1f910",
   "metadata": {},
   "outputs": [
    {
     "data": {
      "text/plain": [
       "LatentDirichletAllocation(max_iter=200, random_state=42)"
      ]
     },
     "execution_count": 60,
     "metadata": {},
     "output_type": "execute_result"
    }
   ],
   "source": [
    "from sklearn.feature_extraction.text import CountVectorizer\n",
    "from sklearn.decomposition import LatentDirichletAllocation\n",
    "import numpy as np\n",
    "\n",
    "# vectorize the data\n",
    "my_stop_words = ['wa', 'ha', 'pm']\n",
    "stop_words = list(CountVectorizer(stop_words='english').get_stop_words()) + my_stop_words\n",
    "\n",
    "vectorizer = CountVectorizer(stop_words=stop_words)\n",
    "X = vectorizer.fit_transform(df3['status_processed'])\n",
    "\n",
    "# train the LDA model\n",
    "lda_model = LatentDirichletAllocation(n_components=10, max_iter=200, random_state=42)\n",
    "lda_model.fit(X)"
   ]
  },
  {
   "cell_type": "code",
   "execution_count": 78,
   "id": "ac0be494",
   "metadata": {},
   "outputs": [],
   "source": [
    "# print LDA topics in a nice way\n",
    "\n",
    "def print_topics(model, vectorizer, top_n=10):\n",
    "    words = vectorizer.get_feature_names()\n",
    "    topics = []\n",
    "    for i, topic in enumerate(model.components_):\n",
    "        topics.append([words[i] for i in topic.argsort()[:-top_n - 1:-1]])\n",
    "    \n",
    "    # convert topics to a pandas DataFrame for good formatting\n",
    "    df = pd.DataFrame(topics)\n",
    "    df.index.name = 'Topic'\n",
    "    df.index = df.index\n",
    "    df.columns = ['Word {}'.format(i) for i in range(1, top_n+1)]\n",
    "    pd.options.display.max_colwidth = 100\n",
    "    \n",
    "    return df"
   ]
  },
  {
   "cell_type": "code",
   "execution_count": 83,
   "id": "61a9f001",
   "metadata": {},
   "outputs": [
    {
     "data": {
      "text/html": [
       "<div>\n",
       "<style scoped>\n",
       "    .dataframe tbody tr th:only-of-type {\n",
       "        vertical-align: middle;\n",
       "    }\n",
       "\n",
       "    .dataframe tbody tr th {\n",
       "        vertical-align: top;\n",
       "    }\n",
       "\n",
       "    .dataframe thead th {\n",
       "        text-align: right;\n",
       "    }\n",
       "</style>\n",
       "<table border=\"1\" class=\"dataframe\">\n",
       "  <thead>\n",
       "    <tr style=\"text-align: right;\">\n",
       "      <th></th>\n",
       "      <th>Word 1</th>\n",
       "      <th>Word 2</th>\n",
       "      <th>Word 3</th>\n",
       "      <th>Word 4</th>\n",
       "      <th>Word 5</th>\n",
       "      <th>Word 6</th>\n",
       "      <th>Word 7</th>\n",
       "      <th>Word 8</th>\n",
       "      <th>Word 9</th>\n",
       "      <th>Word 10</th>\n",
       "    </tr>\n",
       "    <tr>\n",
       "      <th>Topic</th>\n",
       "      <th></th>\n",
       "      <th></th>\n",
       "      <th></th>\n",
       "      <th></th>\n",
       "      <th></th>\n",
       "      <th></th>\n",
       "      <th></th>\n",
       "      <th></th>\n",
       "      <th></th>\n",
       "      <th></th>\n",
       "    </tr>\n",
       "  </thead>\n",
       "  <tbody>\n",
       "    <tr>\n",
       "      <th>0</th>\n",
       "      <td>trump</td>\n",
       "      <td>donald</td>\n",
       "      <td>republican</td>\n",
       "      <td>campaign</td>\n",
       "      <td>today</td>\n",
       "      <td>governor</td>\n",
       "      <td>new</td>\n",
       "      <td>tower</td>\n",
       "      <td>delegate</td>\n",
       "      <td>makeamericagreatagain</td>\n",
       "    </tr>\n",
       "    <tr>\n",
       "      <th>1</th>\n",
       "      <td>great</td>\n",
       "      <td>america</td>\n",
       "      <td>thank</td>\n",
       "      <td>make</td>\n",
       "      <td>support</td>\n",
       "      <td>vote</td>\n",
       "      <td>safe</td>\n",
       "      <td>new</td>\n",
       "      <td>let</td>\n",
       "      <td>trump</td>\n",
       "    </tr>\n",
       "    <tr>\n",
       "      <th>2</th>\n",
       "      <td>apprentice</td>\n",
       "      <td>nbc</td>\n",
       "      <td>time</td>\n",
       "      <td>watch</td>\n",
       "      <td>celebrity</td>\n",
       "      <td>tonight</td>\n",
       "      <td>live</td>\n",
       "      <td>celebapprentice</td>\n",
       "      <td>new</td>\n",
       "      <td>night</td>\n",
       "    </tr>\n",
       "    <tr>\n",
       "      <th>3</th>\n",
       "      <td>trump</td>\n",
       "      <td>new</td>\n",
       "      <td>hotel</td>\n",
       "      <td>york</td>\n",
       "      <td>veteran</td>\n",
       "      <td>hero</td>\n",
       "      <td>student</td>\n",
       "      <td>international</td>\n",
       "      <td>president</td>\n",
       "      <td>obama</td>\n",
       "    </tr>\n",
       "    <tr>\n",
       "      <th>4</th>\n",
       "      <td>john</td>\n",
       "      <td>michael</td>\n",
       "      <td>david</td>\n",
       "      <td>james</td>\n",
       "      <td>robert</td>\n",
       "      <td>thomas</td>\n",
       "      <td>richard</td>\n",
       "      <td>william</td>\n",
       "      <td>paul</td>\n",
       "      <td>charles</td>\n",
       "    </tr>\n",
       "    <tr>\n",
       "      <th>5</th>\n",
       "      <td>job</td>\n",
       "      <td>american</td>\n",
       "      <td>country</td>\n",
       "      <td>new</td>\n",
       "      <td>america</td>\n",
       "      <td>going</td>\n",
       "      <td>state</td>\n",
       "      <td>trade</td>\n",
       "      <td>clinton</td>\n",
       "      <td>people</td>\n",
       "    </tr>\n",
       "    <tr>\n",
       "      <th>6</th>\n",
       "      <td>thank</td>\n",
       "      <td>trump</td>\n",
       "      <td>great</td>\n",
       "      <td>makeamericagreatagain</td>\n",
       "      <td>today</td>\n",
       "      <td>honor</td>\n",
       "      <td>silent</td>\n",
       "      <td>thought</td>\n",
       "      <td>officer</td>\n",
       "      <td>iowa</td>\n",
       "    </tr>\n",
       "    <tr>\n",
       "      <th>7</th>\n",
       "      <td>hillary</td>\n",
       "      <td>clinton</td>\n",
       "      <td>people</td>\n",
       "      <td>country</td>\n",
       "      <td>crooked</td>\n",
       "      <td>american</td>\n",
       "      <td>want</td>\n",
       "      <td>president</td>\n",
       "      <td>time</td>\n",
       "      <td>going</td>\n",
       "    </tr>\n",
       "    <tr>\n",
       "      <th>8</th>\n",
       "      <td>golf</td>\n",
       "      <td>trump</td>\n",
       "      <td>miss</td>\n",
       "      <td>watch</td>\n",
       "      <td>tonight</td>\n",
       "      <td>course</td>\n",
       "      <td>great</td>\n",
       "      <td>scotland</td>\n",
       "      <td>really</td>\n",
       "      <td>universe</td>\n",
       "    </tr>\n",
       "    <tr>\n",
       "      <th>9</th>\n",
       "      <td>trump</td>\n",
       "      <td>donald</td>\n",
       "      <td>great</td>\n",
       "      <td>president</td>\n",
       "      <td>ivanka</td>\n",
       "      <td>news</td>\n",
       "      <td>happy</td>\n",
       "      <td>medium</td>\n",
       "      <td>fox</td>\n",
       "      <td>obama</td>\n",
       "    </tr>\n",
       "  </tbody>\n",
       "</table>\n",
       "</div>"
      ],
      "text/plain": [
       "           Word 1    Word 2      Word 3                 Word 4     Word 5  \\\n",
       "Topic                                                                       \n",
       "0           trump    donald  republican               campaign      today   \n",
       "1           great   america       thank                   make    support   \n",
       "2      apprentice       nbc        time                  watch  celebrity   \n",
       "3           trump       new       hotel                   york    veteran   \n",
       "4            john   michael       david                  james     robert   \n",
       "5             job  american     country                    new    america   \n",
       "6           thank     trump       great  makeamericagreatagain      today   \n",
       "7         hillary   clinton      people                country    crooked   \n",
       "8            golf     trump        miss                  watch    tonight   \n",
       "9           trump    donald       great              president     ivanka   \n",
       "\n",
       "         Word 6   Word 7           Word 8     Word 9                Word 10  \n",
       "Topic                                                                        \n",
       "0      governor      new            tower   delegate  makeamericagreatagain  \n",
       "1          vote     safe              new        let                  trump  \n",
       "2       tonight     live  celebapprentice        new                  night  \n",
       "3          hero  student    international  president                  obama  \n",
       "4        thomas  richard          william       paul                charles  \n",
       "5         going    state            trade    clinton                 people  \n",
       "6         honor   silent          thought    officer                   iowa  \n",
       "7      american     want        president       time                  going  \n",
       "8        course    great         scotland     really               universe  \n",
       "9          news    happy           medium        fox                  obama  "
      ]
     },
     "execution_count": 83,
     "metadata": {},
     "output_type": "execute_result"
    }
   ],
   "source": [
    "# ignore warnings\n",
    "\n",
    "import warnings\n",
    "warnings.filterwarnings('ignore')\n",
    "\n",
    "topics = print_topics(lda_model, vectorizer)\n",
    "topics"
   ]
  },
  {
   "cell_type": "markdown",
   "id": "f39bfe53",
   "metadata": {},
   "source": [
    "We can see that overall people are happy about the topic, since we don't see any negative words in the topics generated by LDA. Moreover, words that indicate positive relation are happy, \"make America great again\", great, thank, hero."
   ]
  },
  {
   "cell_type": "code",
   "execution_count": 80,
   "id": "6c43f7bb",
   "metadata": {},
   "outputs": [],
   "source": [
    "# assign topic to each row\n",
    "\n",
    "# get the topic probabilities for each row in the dataset\n",
    "row_topic_probs = lda_model.transform(X)\n",
    "\n",
    "row_topic_assignments = np.argmax(row_topic_probs, axis=1)\n",
    "\n",
    "# add the topic assignments as a new column to the original dataframe\n",
    "df3['topic'] = row_topic_assignments"
   ]
  },
  {
   "cell_type": "code",
   "execution_count": 82,
   "id": "19114940",
   "metadata": {},
   "outputs": [
    {
     "data": {
      "text/plain": [
       "1    965\n",
       "7    716\n",
       "5    421\n",
       "9    351\n",
       "6    285\n",
       "0    241\n",
       "2    233\n",
       "8    225\n",
       "3    153\n",
       "4     36\n",
       "Name: topic, dtype: int64"
      ]
     },
     "execution_count": 82,
     "metadata": {},
     "output_type": "execute_result"
    }
   ],
   "source": [
    "df3.topic.value_counts()"
   ]
  },
  {
   "cell_type": "markdown",
   "id": "f84abf65",
   "metadata": {},
   "source": [
    "5. What are the themes (topics or top words) that generated a lot of shares?"
   ]
  },
  {
   "cell_type": "code",
   "execution_count": 85,
   "id": "3cd02780",
   "metadata": {},
   "outputs": [
    {
     "name": "stdout",
     "output_type": "stream",
     "text": [
      "Most popular topic: 1 \n",
      "\n",
      "Word 1       great\n",
      "Word 2     america\n",
      "Word 3       thank\n",
      "Word 4        make\n",
      "Word 5     support\n",
      "Word 6        vote\n",
      "Word 7        safe\n",
      "Word 8         new\n",
      "Word 9         let\n",
      "Word 10      trump\n",
      "Name: 1, dtype: object\n"
     ]
    }
   ],
   "source": [
    "topic_counts = df3['topic'].value_counts()\n",
    "\n",
    "most_popular_topic = topic_counts.index[0]\n",
    "\n",
    "print(\"Most popular topic: {}\".format(most_popular_topic), \"\\n\")\n",
    "print(topics.loc[most_popular_topic])"
   ]
  },
  {
   "cell_type": "markdown",
   "id": "55130fc4",
   "metadata": {},
   "source": [
    "6. What are the themes (topics or top words) that generated a lot of num_reactions?"
   ]
  },
  {
   "cell_type": "code",
   "execution_count": 92,
   "id": "57b2208a",
   "metadata": {},
   "outputs": [
    {
     "name": "stdout",
     "output_type": "stream",
     "text": [
      "Top topic: 1, sum of reactions: 72598834.0\n"
     ]
    }
   ],
   "source": [
    "topic_reactions = df3.groupby('topic')['num_reactions'].sum()\n",
    "\n",
    "print(\"Top topic: {}, sum of reactions: {}\".format(topic_reactions.idxmax(), topic_reactions[topic_reactions.idxmax()]))"
   ]
  }
 ],
 "metadata": {
  "kernelspec": {
   "display_name": "Python 3 (ipykernel)",
   "language": "python",
   "name": "python3"
  },
  "language_info": {
   "codemirror_mode": {
    "name": "ipython",
    "version": 3
   },
   "file_extension": ".py",
   "mimetype": "text/x-python",
   "name": "python",
   "nbconvert_exporter": "python",
   "pygments_lexer": "ipython3",
   "version": "3.9.13"
  }
 },
 "nbformat": 4,
 "nbformat_minor": 5
}
